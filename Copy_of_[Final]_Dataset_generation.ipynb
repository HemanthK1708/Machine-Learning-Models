{
  "nbformat": 4,
  "nbformat_minor": 0,
  "metadata": {
    "colab": {
      "name": "Copy of [Final] Dataset generation",
      "provenance": [],
      "collapsed_sections": [],
      "toc_visible": true,
      "include_colab_link": true
    },
    "kernelspec": {
      "name": "python3",
      "display_name": "Python 3"
    },
    "accelerator": "GPU"
  },
  "cells": [
    {
      "cell_type": "markdown",
      "metadata": {
        "id": "view-in-github",
        "colab_type": "text"
      },
      "source": [
        "<a href=\"https://colab.research.google.com/github/HemanthK1708/Machine-Learning-Models/blob/main/Copy_of_%5BFinal%5D_Dataset_generation.ipynb\" target=\"_parent\"><img src=\"https://colab.research.google.com/assets/colab-badge.svg\" alt=\"Open In Colab\"/></a>"
      ]
    },
    {
      "cell_type": "markdown",
      "metadata": {
        "id": "IYRSYBtkJT8m"
      },
      "source": [
        "# Dataset"
      ]
    },
    {
      "cell_type": "markdown",
      "metadata": {
        "id": "2VdX5wgm7Ex0"
      },
      "source": [
        "Creating a directory for dataset"
      ]
    },
    {
      "cell_type": "code",
      "metadata": {
        "id": "WcckrAC3g60G",
        "colab": {
          "base_uri": "https://localhost:8080/"
        },
        "outputId": "6f0dce58-539f-4176-e6cb-8a24227af42b"
      },
      "source": [
        "!mkdir fruitdata\n",
        "%cd fruitdata"
      ],
      "execution_count": null,
      "outputs": [
        {
          "output_type": "stream",
          "text": [
            "/content/fruitdata\n"
          ],
          "name": "stdout"
        }
      ]
    },
    {
      "cell_type": "markdown",
      "metadata": {
        "id": "o1gGb7Vq7QPr"
      },
      "source": [
        "Installing the missing libraries "
      ]
    },
    {
      "cell_type": "code",
      "metadata": {
        "id": "PiPLjIb56p8T",
        "colab": {
          "base_uri": "https://localhost:8080/"
        },
        "outputId": "25bbd955-ad90-47cc-b386-c715d8938320"
      },
      "source": [
        "!pip install pafy\n",
        "!pip install imutils pafy youtube-dl"
      ],
      "execution_count": null,
      "outputs": [
        {
          "output_type": "stream",
          "text": [
            "Collecting pafy\n",
            "  Downloading https://files.pythonhosted.org/packages/74/69/829919eeadff695338f98fa12bb99e45490761a2010c8d688d88b6df194a/pafy-0.5.5-py2.py3-none-any.whl\n",
            "Installing collected packages: pafy\n",
            "Successfully installed pafy-0.5.5\n",
            "Requirement already satisfied: imutils in /usr/local/lib/python3.7/dist-packages (0.5.4)\n",
            "Requirement already satisfied: pafy in /usr/local/lib/python3.7/dist-packages (0.5.5)\n",
            "Collecting youtube-dl\n",
            "\u001b[?25l  Downloading https://files.pythonhosted.org/packages/4e/fe/8d11d7a778633441efa68f1a0bd5fbfcd79e31cb0ef7f20acb8d5c4498db/youtube_dl-2021.2.22-py2.py3-none-any.whl (1.9MB)\n",
            "\u001b[K     |████████████████████████████████| 1.9MB 7.7MB/s \n",
            "\u001b[?25hInstalling collected packages: youtube-dl\n",
            "Successfully installed youtube-dl-2021.2.22\n"
          ],
          "name": "stdout"
        }
      ]
    },
    {
      "cell_type": "markdown",
      "metadata": {
        "id": "jUfKbeBZ7cd7"
      },
      "source": [
        "Importing the required libraries"
      ]
    },
    {
      "cell_type": "code",
      "metadata": {
        "id": "pfvx1TxdtLLK"
      },
      "source": [
        "import imutils\n",
        "import cv2\n",
        "import pafy"
      ],
      "execution_count": null,
      "outputs": []
    },
    {
      "cell_type": "markdown",
      "metadata": {
        "id": "gb6aP4yG7eXd"
      },
      "source": [
        "Getting a handle to Youtube video "
      ]
    },
    {
      "cell_type": "code",
      "metadata": {
        "id": "Jq_ye79dtU3a"
      },
      "source": [
        "def getFrame(time,frameCount):\n",
        "  vidcap.set(cv2.CAP_PROP_POS_MSEC,time)\n",
        "  frameDet, frame = vidcap.read()\n",
        "  if frameDet:\n",
        "    frame = imutils.resize(frame,width=224)\n",
        "    cv2.imwrite(str(frameCount)+\".jpg\", frame)\n",
        "  return frameDet"
      ],
      "execution_count": null,
      "outputs": []
    },
    {
      "cell_type": "markdown",
      "metadata": {
        "id": "wvZkbHWz7oqL"
      },
      "source": [
        "A function to save a frame as a image"
      ]
    },
    {
      "cell_type": "code",
      "metadata": {
        "colab": {
          "base_uri": "https://localhost:8080/"
        },
        "id": "PM6wkUS8QKbg",
        "outputId": "9a8c5da0-9e52-4c3c-8f61-8a3a0d8ddc98"
      },
      "source": [
        "!mkdir apple\r\n",
        "%cd apple"
      ],
      "execution_count": null,
      "outputs": [
        {
          "output_type": "stream",
          "text": [
            "/content/fruitdata/apple\n"
          ],
          "name": "stdout"
        }
      ]
    },
    {
      "cell_type": "code",
      "metadata": {
        "id": "Ua39ONtQvRTx"
      },
      "source": [
        "# Apple Dataset\n",
        "\n",
        "url = 'https://youtu.be/EKiM9Q9QpMs' #update URL\n",
        "video = pafy.new(url)\n",
        "videoStream = video.getbestvideo()\n",
        "vidcap  = cv2.VideoCapture(videoStream.url)\n",
        "\n",
        "startTime = 0\n",
        "frameRate = 24\n",
        "frameCount = 1\n",
        "h,m,s = video.duration.split(sep=':')\n",
        "endTime = (int(h)*3600 + int(m)*60 +int(s))*1000\n",
        "\n",
        "for time in range(startTime,endTime,frameRate):\n",
        "   frameCount = frameCount + 1   \n",
        "   time = round(time,2)\n",
        "   getFrame(time,frameCount)"
      ],
      "execution_count": null,
      "outputs": []
    },
    {
      "cell_type": "code",
      "metadata": {
        "id": "tbvSV5dHHNdY",
        "colab": {
          "base_uri": "https://localhost:8080/"
        },
        "outputId": "118955ef-bbf1-402f-a7f3-d2fac3e0d315"
      },
      "source": [
        "%cd ..\r\n",
        "!mkdir kiwi\r\n",
        "%cd kiwi"
      ],
      "execution_count": null,
      "outputs": [
        {
          "output_type": "stream",
          "text": [
            "/content/fruitdata\n",
            "/content/fruitdata/kiwi\n"
          ],
          "name": "stdout"
        }
      ]
    },
    {
      "cell_type": "markdown",
      "metadata": {
        "id": "iIQXnP-KnjUS"
      },
      "source": [
        "Creating a folder for **KIWI**"
      ]
    },
    {
      "cell_type": "code",
      "metadata": {
        "id": "Kz3uBbuMj6yv"
      },
      "source": [
        "url = 'https://youtu.be/Z6WnQyG3WJY' #update URL\r\n",
        "video = pafy.new(url)\r\n",
        "videoStream = video.getbestvideo()\r\n",
        "vidcap  = cv2.VideoCapture(videoStream.url)\r\n",
        "\r\n",
        "startTime = 0\r\n",
        "frameRate = 24\r\n",
        "frameCount = 1\r\n",
        "h,m,s = video.duration.split(sep=':')\r\n",
        "endTime = (int(h)*3600 + int(m)*60 +int(s))*1000\r\n",
        "\r\n",
        "for time in range(startTime,endTime,frameRate):\r\n",
        "   frameCount = frameCount + 1   \r\n",
        "   time = round(time,2)\r\n",
        "   getFrame(time,frameCount)"
      ],
      "execution_count": null,
      "outputs": []
    },
    {
      "cell_type": "markdown",
      "metadata": {
        "id": "rGiWNzntGS8w"
      },
      "source": [
        "Create for **Banana**"
      ]
    },
    {
      "cell_type": "code",
      "metadata": {
        "id": "anh_wO2cHVsv",
        "colab": {
          "base_uri": "https://localhost:8080/"
        },
        "outputId": "990b1797-fa25-4f0d-b305-6951efc94da4"
      },
      "source": [
        "%cd ..\r\n",
        "!mkdir banana\r\n",
        "%cd banana"
      ],
      "execution_count": null,
      "outputs": [
        {
          "output_type": "stream",
          "text": [
            "/content/fruitdata\n",
            "/content/fruitdata/banana\n"
          ],
          "name": "stdout"
        }
      ]
    },
    {
      "cell_type": "code",
      "metadata": {
        "id": "8W1bVJY7Gx_C"
      },
      "source": [
        "url = 'https://youtu.be/ukV49VQHZ2M' #update URL\r\n",
        "video = pafy.new(url)\r\n",
        "videoStream = video.getbestvideo()\r\n",
        "vidcap  = cv2.VideoCapture(videoStream.url)\r\n",
        "\r\n",
        "startTime = 0\r\n",
        "frameRate = 24\r\n",
        "frameCount = 1\r\n",
        "h,m,s = video.duration.split(sep=':')\r\n",
        "endTime = (int(h)*3600 + int(m)*60 +int(s))*1000\r\n",
        "\r\n",
        "for time in range(startTime,endTime,frameRate):\r\n",
        "   frameCount = frameCount + 1   \r\n",
        "   time = round(time,2)\r\n",
        "   getFrame(time,frameCount)"
      ],
      "execution_count": null,
      "outputs": []
    },
    {
      "cell_type": "markdown",
      "metadata": {
        "id": "8a0dnLZeGylc"
      },
      "source": [
        "Code for **Orange**"
      ]
    },
    {
      "cell_type": "code",
      "metadata": {
        "id": "vS1kwDhrHxQE",
        "colab": {
          "base_uri": "https://localhost:8080/"
        },
        "outputId": "69602d6a-5847-4de1-b575-ac4bb649ecc7"
      },
      "source": [
        "%cd ..\r\n",
        "!mkdir orange\r\n",
        "%cd orange"
      ],
      "execution_count": null,
      "outputs": [
        {
          "output_type": "stream",
          "text": [
            "/content/fruitdata\n",
            "/content/fruitdata/orange\n"
          ],
          "name": "stdout"
        }
      ]
    },
    {
      "cell_type": "code",
      "metadata": {
        "id": "V5nIL1WEG4v1"
      },
      "source": [
        "url = 'https://youtu.be/ruLtnRd9i-Q' #update URL\r\n",
        "video = pafy.new(url)\r\n",
        "videoStream = video.getbestvideo()\r\n",
        "vidcap  = cv2.VideoCapture(videoStream.url)\r\n",
        "\r\n",
        "startTime = 0\r\n",
        "frameRate = 24\r\n",
        "frameCount = 1\r\n",
        "h,m,s = video.duration.split(sep=':')\r\n",
        "endTime = (int(h)*3600 + int(m)*60 +int(s))*1000\r\n",
        "\r\n",
        "for time in range(startTime,endTime,frameRate):\r\n",
        "   frameCount = frameCount + 1   \r\n",
        "   time = round(time,2)\r\n",
        "   getFrame(time,frameCount)"
      ],
      "execution_count": null,
      "outputs": []
    },
    {
      "cell_type": "code",
      "metadata": {
        "id": "taP7rNayT08X"
      },
      "source": [
        ""
      ],
      "execution_count": null,
      "outputs": []
    }
  ]
}